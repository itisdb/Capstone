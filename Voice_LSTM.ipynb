{
  "nbformat": 4,
  "nbformat_minor": 0,
  "metadata": {
    "colab": {
      "name": "Voice LSTM",
      "provenance": [],
      "collapsed_sections": []
    },
    "kernelspec": {
      "name": "python3",
      "display_name": "Python 3"
    },
    "language_info": {
      "name": "python"
    },
    "accelerator": "GPU"
  },
  "cells": [
    {
      "cell_type": "code",
      "execution_count": 1,
      "metadata": {
        "colab": {
          "base_uri": "https://localhost:8080/"
        },
        "id": "G1H2DMSrMrBD",
        "outputId": "9d76c56c-c2d9-4758-ab10-acabca0f0ba9"
      },
      "outputs": [
        {
          "output_type": "stream",
          "name": "stdout",
          "text": [
            "Cloning into 'Capstone'...\n",
            "remote: Enumerating objects: 2988, done.\u001b[K\n",
            "remote: Counting objects: 100% (77/77), done.\u001b[K\n",
            "remote: Compressing objects: 100% (51/51), done.\u001b[K\n",
            "remote: Total 2988 (delta 22), reused 65 (delta 18), pack-reused 2911\u001b[K\n",
            "Receiving objects: 100% (2988/2988), 195.93 MiB | 14.19 MiB/s, done.\n",
            "Resolving deltas: 100% (66/66), done.\n",
            "Checking out files: 100% (2905/2905), done.\n"
          ]
        }
      ],
      "source": [
        "!git clone https://github.com/itisdb/Capstone.git"
      ]
    },
    {
      "cell_type": "code",
      "source": [
        "!nvidia-smi"
      ],
      "metadata": {
        "colab": {
          "base_uri": "https://localhost:8080/"
        },
        "id": "MxdA4duodPuN",
        "outputId": "18468756-1f7e-4730-aa3f-0a29a2e41794"
      },
      "execution_count": 2,
      "outputs": [
        {
          "output_type": "stream",
          "name": "stdout",
          "text": [
            "Thu Dec  9 10:42:16 2021       \n",
            "+-----------------------------------------------------------------------------+\n",
            "| NVIDIA-SMI 495.44       Driver Version: 460.32.03    CUDA Version: 11.2     |\n",
            "|-------------------------------+----------------------+----------------------+\n",
            "| GPU  Name        Persistence-M| Bus-Id        Disp.A | Volatile Uncorr. ECC |\n",
            "| Fan  Temp  Perf  Pwr:Usage/Cap|         Memory-Usage | GPU-Util  Compute M. |\n",
            "|                               |                      |               MIG M. |\n",
            "|===============================+======================+======================|\n",
            "|   0  Tesla K80           Off  | 00000000:00:04.0 Off |                    0 |\n",
            "| N/A   48C    P8    31W / 149W |      0MiB / 11441MiB |      0%      Default |\n",
            "|                               |                      |                  N/A |\n",
            "+-------------------------------+----------------------+----------------------+\n",
            "                                                                               \n",
            "+-----------------------------------------------------------------------------+\n",
            "| Processes:                                                                  |\n",
            "|  GPU   GI   CI        PID   Type   Process name                  GPU Memory |\n",
            "|        ID   ID                                                   Usage      |\n",
            "|=============================================================================|\n",
            "|  No running processes found                                                 |\n",
            "+-----------------------------------------------------------------------------+\n"
          ]
        }
      ]
    },
    {
      "cell_type": "code",
      "source": [
        "# Installing the Keras Dependency\n",
        "!sudo pip install np_utils"
      ],
      "metadata": {
        "colab": {
          "base_uri": "https://localhost:8080/"
        },
        "id": "ZvFdzCb6Mwot",
        "outputId": "e45c7ef6-2eab-4447-ffa0-5b02b445cbb3"
      },
      "execution_count": 3,
      "outputs": [
        {
          "output_type": "stream",
          "name": "stdout",
          "text": [
            "Collecting np_utils\n",
            "  Downloading np_utils-0.5.12.1.tar.gz (61 kB)\n",
            "\u001b[?25l\r\u001b[K     |█████▍                          | 10 kB 26.9 MB/s eta 0:00:01\r\u001b[K     |██████████▊                     | 20 kB 8.1 MB/s eta 0:00:01\r\u001b[K     |████████████████                | 30 kB 6.6 MB/s eta 0:00:01\r\u001b[K     |█████████████████████▍          | 40 kB 6.7 MB/s eta 0:00:01\r\u001b[K     |██████████████████████████▊     | 51 kB 4.1 MB/s eta 0:00:01\r\u001b[K     |████████████████████████████████| 61 kB 2.5 MB/s \n",
            "\u001b[?25hRequirement already satisfied: numpy>=1.0 in /usr/local/lib/python3.7/dist-packages (from np_utils) (1.19.5)\n",
            "Requirement already satisfied: future>=0.16 in /usr/local/lib/python3.7/dist-packages (from np_utils) (0.16.0)\n",
            "Building wheels for collected packages: np-utils\n",
            "  Building wheel for np-utils (setup.py) ... \u001b[?25l\u001b[?25hdone\n",
            "  Created wheel for np-utils: filename=np_utils-0.5.12.1-py3-none-any.whl size=57131 sha256=89de1c8737a17cc1dc6f67894f1f6243b0af0c2ea3f8b873ee242a9764df6381\n",
            "  Stored in directory: /root/.cache/pip/wheels/8c/4e/ef/095c24693723c329f4cdc1079861cdbb2487d4b41b2496a4e7\n",
            "Successfully built np-utils\n",
            "Installing collected packages: np-utils\n",
            "Successfully installed np-utils-0.5.12.1\n"
          ]
        }
      ]
    },
    {
      "cell_type": "code",
      "source": [
        "# Import Data\n",
        "import pandas as pd\n",
        "import numpy as np\n",
        "\n",
        "# text preprocessing\n",
        "from nltk.tokenize import word_tokenize\n",
        "import re\n",
        "\n",
        "# plots and metrics\n",
        "import matplotlib.pyplot as plt\n",
        "from sklearn.metrics import accuracy_score, f1_score, confusion_matrix\n",
        "\n",
        "# preparing input to our model\n",
        "from keras.preprocessing.text import Tokenizer\n",
        "from keras.preprocessing.sequence import pad_sequences\n",
        "from keras.utils.np_utils import to_categorical\n",
        "\n",
        "# keras layers\n",
        "from keras.models import Sequential\n",
        "from keras.layers import Embedding, Bidirectional, LSTM, GRU, Dense"
      ],
      "metadata": {
        "id": "sngmLdGRNgNp"
      },
      "execution_count": 4,
      "outputs": []
    },
    {
      "cell_type": "code",
      "source": [
        "#Defining vector space dimension and fixed input size\n",
        "\n",
        "# Number of labels: joy, anger, fear, sadness, neutral\n",
        "num_classes = 5\n",
        "\n",
        "# Number of dimensions for word embedding\n",
        "embed_num_dims = 300\n",
        "\n",
        "# Max input length (max number of words) \n",
        "max_seq_len = 500\n",
        "\n",
        "class_names = ['joy', 'fear', 'anger', 'sadness', 'neutral']"
      ],
      "metadata": {
        "id": "Ol76PqByNmCv"
      },
      "execution_count": 5,
      "outputs": []
    },
    {
      "cell_type": "code",
      "source": [
        "data_train = pd.read_csv('/content/Capstone/data/data_train.csv', encoding='utf-8')\n",
        "data_test = pd.read_csv('/content/Capstone/data/data_test.csv', encoding='utf-8')\n",
        "\n",
        "X_train = data_train.Text\n",
        "X_test = data_test.Text\n",
        "\n",
        "y_train = data_train.Emotion\n",
        "y_test = data_test.Emotion\n",
        "\n",
        "data = data_train.append(data_test, ignore_index=True)"
      ],
      "metadata": {
        "id": "iMNdlePwNoCL"
      },
      "execution_count": 6,
      "outputs": []
    },
    {
      "cell_type": "code",
      "source": [
        "print(data.Emotion.value_counts())\n",
        "data.head(6)"
      ],
      "metadata": {
        "colab": {
          "base_uri": "https://localhost:8080/",
          "height": 342
        },
        "id": "0OPcjq2JNuNH",
        "outputId": "53edbdbd-408c-4514-d6a6-711eeb8835e8"
      },
      "execution_count": 7,
      "outputs": [
        {
          "output_type": "stream",
          "name": "stdout",
          "text": [
            "joy        2326\n",
            "sadness    2317\n",
            "anger      2259\n",
            "neutral    2254\n",
            "fear       2171\n",
            "Name: Emotion, dtype: int64\n"
          ]
        },
        {
          "output_type": "execute_result",
          "data": {
            "text/html": [
              "<div>\n",
              "<style scoped>\n",
              "    .dataframe tbody tr th:only-of-type {\n",
              "        vertical-align: middle;\n",
              "    }\n",
              "\n",
              "    .dataframe tbody tr th {\n",
              "        vertical-align: top;\n",
              "    }\n",
              "\n",
              "    .dataframe thead th {\n",
              "        text-align: right;\n",
              "    }\n",
              "</style>\n",
              "<table border=\"1\" class=\"dataframe\">\n",
              "  <thead>\n",
              "    <tr style=\"text-align: right;\">\n",
              "      <th></th>\n",
              "      <th>Emotion</th>\n",
              "      <th>Text</th>\n",
              "    </tr>\n",
              "  </thead>\n",
              "  <tbody>\n",
              "    <tr>\n",
              "      <th>0</th>\n",
              "      <td>neutral</td>\n",
              "      <td>There are tons of other paintings that I thin...</td>\n",
              "    </tr>\n",
              "    <tr>\n",
              "      <th>1</th>\n",
              "      <td>sadness</td>\n",
              "      <td>Yet the dog had grown old and less capable , a...</td>\n",
              "    </tr>\n",
              "    <tr>\n",
              "      <th>2</th>\n",
              "      <td>fear</td>\n",
              "      <td>When I get into the tube or the train without ...</td>\n",
              "    </tr>\n",
              "    <tr>\n",
              "      <th>3</th>\n",
              "      <td>fear</td>\n",
              "      <td>This last may be a source of considerable disq...</td>\n",
              "    </tr>\n",
              "    <tr>\n",
              "      <th>4</th>\n",
              "      <td>anger</td>\n",
              "      <td>She disliked the intimacy he showed towards so...</td>\n",
              "    </tr>\n",
              "    <tr>\n",
              "      <th>5</th>\n",
              "      <td>sadness</td>\n",
              "      <td>When my family heard that my Mother's cousin w...</td>\n",
              "    </tr>\n",
              "  </tbody>\n",
              "</table>\n",
              "</div>"
            ],
            "text/plain": [
              "   Emotion                                               Text\n",
              "0  neutral   There are tons of other paintings that I thin...\n",
              "1  sadness  Yet the dog had grown old and less capable , a...\n",
              "2     fear  When I get into the tube or the train without ...\n",
              "3     fear  This last may be a source of considerable disq...\n",
              "4    anger  She disliked the intimacy he showed towards so...\n",
              "5  sadness  When my family heard that my Mother's cousin w..."
            ]
          },
          "metadata": {},
          "execution_count": 7
        }
      ]
    },
    {
      "cell_type": "code",
      "source": [
        "#To input the data to our NN Model we'll need some preprocessing:\n",
        "\n",
        "#Tokenize our texts and count unique tokens\n",
        "#Padding: each input (sentence or text) has to be of the same lenght\n",
        "#Labels have to be converted to integeres and categorized\n",
        "\n",
        "def clean_text(data):\n",
        "    \n",
        "    # remove hashtags and @usernames\n",
        "    data = re.sub(r\"(#[\\d\\w\\.]+)\", '', data)\n",
        "    data = re.sub(r\"(@[\\d\\w\\.]+)\", '', data)\n",
        "    \n",
        "    # tekenization using nltk\n",
        "    data = word_tokenize(data)\n",
        "    \n",
        "    return data"
      ],
      "metadata": {
        "id": "SOcub2-TNv0k"
      },
      "execution_count": 8,
      "outputs": []
    },
    {
      "cell_type": "code",
      "source": [
        "#using the NLTK Downloader to obtain the resource\n",
        "import nltk\n",
        "nltk.download('punkt')\n",
        "\n",
        "texts = [' '.join(clean_text(text)) for text in data.Text]\n",
        "\n",
        "texts_train = [' '.join(clean_text(text)) for text in X_train]\n",
        "texts_test = [' '.join(clean_text(text)) for text in X_test]"
      ],
      "metadata": {
        "colab": {
          "base_uri": "https://localhost:8080/"
        },
        "id": "5fwIvEE1Nx4t",
        "outputId": "add5370c-a74d-4242-ed83-54c633ae9acf"
      },
      "execution_count": 9,
      "outputs": [
        {
          "output_type": "stream",
          "name": "stdout",
          "text": [
            "[nltk_data] Downloading package punkt to /root/nltk_data...\n",
            "[nltk_data]   Unzipping tokenizers/punkt.zip.\n"
          ]
        }
      ]
    },
    {
      "cell_type": "code",
      "source": [
        "print(texts_train[93])"
      ],
      "metadata": {
        "colab": {
          "base_uri": "https://localhost:8080/"
        },
        "id": "VEP7g1uENzvY",
        "outputId": "b43dd641-cda5-446d-b44a-40db83087beb"
      },
      "execution_count": 10,
      "outputs": [
        {
          "output_type": "stream",
          "name": "stdout",
          "text": [
            "Fantastic ! I did n't want to come back .\n"
          ]
        }
      ]
    },
    {
      "cell_type": "code",
      "source": [
        "tokenizer = Tokenizer()\n",
        "tokenizer.fit_on_texts(texts)\n",
        "\n",
        "sequence_train = tokenizer.texts_to_sequences(texts_train)\n",
        "sequence_test = tokenizer.texts_to_sequences(texts_test)\n",
        "\n",
        "index_of_words = tokenizer.word_index\n",
        "\n",
        "# vacab size is number of unique words + reserved 0 index for padding\n",
        "vocab_size = len(index_of_words) + 1\n",
        "\n",
        "print('Number of unique words: {}'.format(len(index_of_words)))"
      ],
      "metadata": {
        "colab": {
          "base_uri": "https://localhost:8080/"
        },
        "id": "V2uSt3OsN189",
        "outputId": "65b83025-32d1-4eee-f1c6-e64ca98531a7"
      },
      "execution_count": 11,
      "outputs": [
        {
          "output_type": "stream",
          "name": "stdout",
          "text": [
            "Number of unique words: 12088\n"
          ]
        }
      ]
    },
    {
      "cell_type": "code",
      "source": [
        "X_train_pad = pad_sequences(sequence_train, maxlen = max_seq_len )\n",
        "X_test_pad = pad_sequences(sequence_test, maxlen = max_seq_len )\n",
        "\n",
        "X_train_pad"
      ],
      "metadata": {
        "colab": {
          "base_uri": "https://localhost:8080/"
        },
        "id": "RwKNnGSEN6Wu",
        "outputId": "aa1963ee-4383-4d42-d924-10e5ce199406"
      },
      "execution_count": 12,
      "outputs": [
        {
          "output_type": "execute_result",
          "data": {
            "text/plain": [
              "array([[    0,     0,     0, ...,   119,    51,   345],\n",
              "       [    0,     0,     0, ...,    37,   277,   154],\n",
              "       [    0,     0,     0, ...,    16,     2,  1210],\n",
              "       ...,\n",
              "       [    0,     0,     0, ...,   876,     4,   909],\n",
              "       [    0,     0,     0, ...,     1,     6,   117],\n",
              "       [    0,     0,     0, ..., 10259,   173,    13]], dtype=int32)"
            ]
          },
          "metadata": {},
          "execution_count": 12
        }
      ]
    },
    {
      "cell_type": "code",
      "source": [
        "#Categorizing the labels\n",
        "\n",
        "encoding = {\n",
        "    'joy': 0,\n",
        "    'fear': 1,\n",
        "    'anger': 2,\n",
        "    'sadness': 3,\n",
        "    'neutral': 4\n",
        "}\n",
        "\n",
        "# Integer labels\n",
        "y_train = [encoding[x] for x in data_train.Emotion]\n",
        "y_test = [encoding[x] for x in data_test.Emotion]"
      ],
      "metadata": {
        "id": "HES6PMKKN8Sj"
      },
      "execution_count": 13,
      "outputs": []
    },
    {
      "cell_type": "code",
      "source": [
        "y_train = to_categorical(y_train)\n",
        "y_test = to_categorical(y_test)\n",
        "\n",
        "y_train"
      ],
      "metadata": {
        "colab": {
          "base_uri": "https://localhost:8080/"
        },
        "id": "c9XThv4qN-AR",
        "outputId": "0bf7f35d-4104-4964-dfe2-3dd7c0880c4a"
      },
      "execution_count": 14,
      "outputs": [
        {
          "output_type": "execute_result",
          "data": {
            "text/plain": [
              "array([[0., 0., 0., 0., 1.],\n",
              "       [0., 0., 0., 1., 0.],\n",
              "       [0., 1., 0., 0., 0.],\n",
              "       ...,\n",
              "       [0., 0., 0., 1., 0.],\n",
              "       [0., 1., 0., 0., 0.],\n",
              "       [0., 0., 1., 0., 0.]], dtype=float32)"
            ]
          },
          "metadata": {},
          "execution_count": 14
        }
      ]
    },
    {
      "cell_type": "code",
      "source": [
        "#Importing the pretrained words\n",
        "\n",
        "def create_embedding_matrix(filepath, word_index, embedding_dim):\n",
        "    vocab_size = len(word_index) + 1  # Adding again 1 because of reserved 0 index\n",
        "    embedding_matrix = np.zeros((vocab_size, embedding_dim))\n",
        "    with open(filepath) as f:\n",
        "        for line in f:\n",
        "            word, *vector = line.split()\n",
        "            if word in word_index:\n",
        "                idx = word_index[word] \n",
        "                embedding_matrix[idx] = np.array(\n",
        "                    vector, dtype=np.float32)[:embedding_dim]\n",
        "    return embedding_matrix"
      ],
      "metadata": {
        "id": "BPn2io4SOAPs"
      },
      "execution_count": 15,
      "outputs": []
    },
    {
      "cell_type": "code",
      "source": [
        "#We can download and import any pre-trained word embeddings.\n",
        "#We will use 300 dimentional w2v pre-trained on wikipedia articles.\n",
        "#Free Resource : https://fasttext.cc/docs/en/english-vectors.html\n",
        "\n",
        "import urllib.request\n",
        "import zipfile\n",
        "import os\n",
        "\n",
        "fname = 'embeddings/wiki-news-300d-1M.vec'\n",
        "\n",
        "if not os.path.isfile(fname):\n",
        "    print('Downloading word vectors...')\n",
        "    urllib.request.urlretrieve('https://dl.fbaipublicfiles.com/fasttext/vectors-english/wiki-news-300d-1M.vec.zip',\n",
        "                              'wiki-news-300d-1M.vec.zip')\n",
        "    print('Unzipping...')\n",
        "    with zipfile.ZipFile('wiki-news-300d-1M.vec.zip', 'r') as zip_ref:\n",
        "        zip_ref.extractall('embeddings')\n",
        "    print('done.')\n",
        "    \n",
        "    os.remove('wiki-news-300d-1M.vec.zip')"
      ],
      "metadata": {
        "colab": {
          "base_uri": "https://localhost:8080/"
        },
        "id": "vTUD9uMdOCD1",
        "outputId": "a8af27ae-e191-4671-a90a-433a5f4073bd"
      },
      "execution_count": 16,
      "outputs": [
        {
          "output_type": "stream",
          "name": "stdout",
          "text": [
            "Downloading word vectors...\n",
            "Unzipping...\n",
            "done.\n"
          ]
        }
      ]
    },
    {
      "cell_type": "code",
      "source": [
        "embedd_matrix = create_embedding_matrix(fname, index_of_words, embed_num_dims)\n",
        "embedd_matrix.shape"
      ],
      "metadata": {
        "colab": {
          "base_uri": "https://localhost:8080/"
        },
        "id": "-XBc3WwTOElO",
        "outputId": "86e50587-fedc-4a5e-c3f2-ace4d4c6d2ba"
      },
      "execution_count": 17,
      "outputs": [
        {
          "output_type": "execute_result",
          "data": {
            "text/plain": [
              "(12089, 300)"
            ]
          },
          "metadata": {},
          "execution_count": 17
        }
      ]
    },
    {
      "cell_type": "code",
      "source": [
        "# Inspect unseen words\n",
        "new_words = 0\n",
        "\n",
        "for word in index_of_words:\n",
        "    entry = embedd_matrix[index_of_words[word]]\n",
        "    if all(v == 0 for v in entry):\n",
        "        new_words = new_words + 1\n",
        "\n",
        "print('Words found in wiki vocab: ' + str(len(index_of_words) - new_words))\n",
        "print('New words found: ' + str(new_words))"
      ],
      "metadata": {
        "colab": {
          "base_uri": "https://localhost:8080/"
        },
        "id": "_edoVdwbOHQT",
        "outputId": "668f9210-977d-4b3f-f338-f6c3a0141e90"
      },
      "execution_count": 18,
      "outputs": [
        {
          "output_type": "stream",
          "name": "stdout",
          "text": [
            "Words found in wiki vocab: 11442\n",
            "New words found: 646\n"
          ]
        }
      ]
    },
    {
      "cell_type": "markdown",
      "source": [
        "## 3. Create LSTM Pipeline\n"
      ],
      "metadata": {
        "id": "1pQyX4F6OT-7"
      }
    },
    {
      "cell_type": "code",
      "source": [
        "# Embedding layer before the actaul BLSTM \n",
        "embedd_layer = Embedding(vocab_size,\n",
        "                         embed_num_dims,\n",
        "                         input_length = max_seq_len,\n",
        "                         weights = [embedd_matrix],\n",
        "                         trainable=False)"
      ],
      "metadata": {
        "id": "aNHUeCn5OQyH"
      },
      "execution_count": 19,
      "outputs": []
    },
    {
      "cell_type": "markdown",
      "source": [
        "### Model Pipeline\n"
      ],
      "metadata": {
        "id": "VQbrjXa0ObDD"
      }
    },
    {
      "cell_type": "code",
      "source": [
        "# Parameters\n",
        "gru_output_size = 128\n",
        "bidirectional = True\n",
        "\n",
        "# Embedding Layer, LSTM or biLSTM, Dense, softmax\n",
        "model = Sequential()\n",
        "model.add(embedd_layer)\n",
        "\n",
        "if bidirectional:\n",
        "    model.add(Bidirectional(GRU(units=gru_output_size,\n",
        "                              dropout=0.2,\n",
        "                              recurrent_dropout=0.2)))\n",
        "else:\n",
        "     model.add(GRU(units=gru_output_size,\n",
        "                dropout=0.2, \n",
        "                recurrent_dropout=0.2))\n",
        "\n",
        "model.add(Dense(num_classes, activation='softmax'))"
      ],
      "metadata": {
        "colab": {
          "base_uri": "https://localhost:8080/"
        },
        "id": "YRQUMJasOXlv",
        "outputId": "2e308cbc-334c-4f02-bb48-27b5175fa524"
      },
      "execution_count": 20,
      "outputs": [
        {
          "output_type": "stream",
          "name": "stdout",
          "text": [
            "WARNING:tensorflow:Layer gru will not use cuDNN kernels since it doesn't meet the criteria. It will use a generic GPU kernel as fallback when running on GPU.\n",
            "WARNING:tensorflow:Layer gru will not use cuDNN kernels since it doesn't meet the criteria. It will use a generic GPU kernel as fallback when running on GPU.\n",
            "WARNING:tensorflow:Layer gru will not use cuDNN kernels since it doesn't meet the criteria. It will use a generic GPU kernel as fallback when running on GPU.\n"
          ]
        }
      ]
    },
    {
      "cell_type": "code",
      "source": [
        "model.compile(loss = 'categorical_crossentropy', optimizer = 'adam', metrics = ['accuracy'])\n",
        "model.summary()"
      ],
      "metadata": {
        "colab": {
          "base_uri": "https://localhost:8080/"
        },
        "id": "0Q70V3EAOdOo",
        "outputId": "bc31e6a5-0eb8-4d26-8e8b-0b870d733879"
      },
      "execution_count": 21,
      "outputs": [
        {
          "output_type": "stream",
          "name": "stdout",
          "text": [
            "Model: \"sequential\"\n",
            "_________________________________________________________________\n",
            " Layer (type)                Output Shape              Param #   \n",
            "=================================================================\n",
            " embedding (Embedding)       (None, 500, 300)          3626700   \n",
            "                                                                 \n",
            " bidirectional (Bidirectiona  (None, 256)              330240    \n",
            " l)                                                              \n",
            "                                                                 \n",
            " dense (Dense)               (None, 5)                 1285      \n",
            "                                                                 \n",
            "=================================================================\n",
            "Total params: 3,958,225\n",
            "Trainable params: 331,525\n",
            "Non-trainable params: 3,626,700\n",
            "_________________________________________________________________\n"
          ]
        }
      ]
    },
    {
      "cell_type": "markdown",
      "source": [
        "## 3. Train the Model\n"
      ],
      "metadata": {
        "id": "JDMLPRGPOmPD"
      }
    },
    {
      "cell_type": "code",
      "source": [
        "batch_size = 128\n",
        "epochs = 30\n",
        "\n",
        "hist = model.fit(X_train_pad, y_train, \n",
        "                 batch_size=batch_size,\n",
        "                 epochs=epochs,\n",
        "                 validation_data=(X_test_pad,y_test))"
      ],
      "metadata": {
        "colab": {
          "base_uri": "https://localhost:8080/"
        },
        "id": "vFiudgjvOfr7",
        "outputId": "d9b17062-19fd-4afa-affd-f258d7a969f8"
      },
      "execution_count": 22,
      "outputs": [
        {
          "output_type": "stream",
          "name": "stdout",
          "text": [
            "Epoch 1/30\n",
            "62/62 [==============================] - 310s 5s/step - loss: 1.4106 - accuracy: 0.3848 - val_loss: 1.2656 - val_accuracy: 0.4798\n",
            "Epoch 2/30\n",
            "62/62 [==============================] - 304s 5s/step - loss: 1.0912 - accuracy: 0.5689 - val_loss: 0.9592 - val_accuracy: 0.6393\n",
            "Epoch 3/30\n",
            "62/62 [==============================] - 301s 5s/step - loss: 0.8861 - accuracy: 0.6725 - val_loss: 0.8353 - val_accuracy: 0.7011\n",
            "Epoch 4/30\n",
            "62/62 [==============================] - 301s 5s/step - loss: 0.7805 - accuracy: 0.7163 - val_loss: 0.8096 - val_accuracy: 0.7050\n",
            "Epoch 5/30\n",
            "62/62 [==============================] - 302s 5s/step - loss: 0.7438 - accuracy: 0.7265 - val_loss: 0.7774 - val_accuracy: 0.7235\n",
            "Epoch 6/30\n",
            "62/62 [==============================] - 301s 5s/step - loss: 0.7241 - accuracy: 0.7388 - val_loss: 0.7716 - val_accuracy: 0.7165\n",
            "Epoch 7/30\n",
            "62/62 [==============================] - 301s 5s/step - loss: 0.6934 - accuracy: 0.7492 - val_loss: 0.7516 - val_accuracy: 0.7289\n",
            "Epoch 8/30\n",
            "62/62 [==============================] - 300s 5s/step - loss: 0.6703 - accuracy: 0.7584 - val_loss: 0.7431 - val_accuracy: 0.7347\n",
            "Epoch 9/30\n",
            "62/62 [==============================] - 298s 5s/step - loss: 0.6551 - accuracy: 0.7629 - val_loss: 0.7462 - val_accuracy: 0.7291\n",
            "Epoch 10/30\n",
            "62/62 [==============================] - 299s 5s/step - loss: 0.6385 - accuracy: 0.7716 - val_loss: 0.7435 - val_accuracy: 0.7321\n",
            "Epoch 11/30\n",
            "62/62 [==============================] - 300s 5s/step - loss: 0.6224 - accuracy: 0.7777 - val_loss: 0.7307 - val_accuracy: 0.7365\n",
            "Epoch 12/30\n",
            "62/62 [==============================] - 302s 5s/step - loss: 0.6074 - accuracy: 0.7871 - val_loss: 0.7282 - val_accuracy: 0.7401\n",
            "Epoch 13/30\n",
            "62/62 [==============================] - 303s 5s/step - loss: 0.5939 - accuracy: 0.7908 - val_loss: 0.7333 - val_accuracy: 0.7392\n",
            "Epoch 14/30\n",
            "62/62 [==============================] - 301s 5s/step - loss: 0.5757 - accuracy: 0.7959 - val_loss: 0.7303 - val_accuracy: 0.7386\n",
            "Epoch 15/30\n",
            "62/62 [==============================] - 305s 5s/step - loss: 0.5571 - accuracy: 0.7985 - val_loss: 0.7297 - val_accuracy: 0.7389\n",
            "Epoch 16/30\n",
            "62/62 [==============================] - 302s 5s/step - loss: 0.5494 - accuracy: 0.8043 - val_loss: 0.7360 - val_accuracy: 0.7371\n",
            "Epoch 17/30\n",
            "62/62 [==============================] - 299s 5s/step - loss: 0.5410 - accuracy: 0.8054 - val_loss: 0.7481 - val_accuracy: 0.7345\n",
            "Epoch 18/30\n",
            "62/62 [==============================] - 300s 5s/step - loss: 0.5172 - accuracy: 0.8145 - val_loss: 0.7410 - val_accuracy: 0.7409\n",
            "Epoch 19/30\n",
            "62/62 [==============================] - 303s 5s/step - loss: 0.5163 - accuracy: 0.8172 - val_loss: 0.7419 - val_accuracy: 0.7424\n",
            "Epoch 20/30\n",
            "62/62 [==============================] - 302s 5s/step - loss: 0.4988 - accuracy: 0.8254 - val_loss: 0.7490 - val_accuracy: 0.7442\n",
            "Epoch 21/30\n",
            "62/62 [==============================] - 297s 5s/step - loss: 0.4895 - accuracy: 0.8281 - val_loss: 0.7388 - val_accuracy: 0.7430\n",
            "Epoch 22/30\n",
            "62/62 [==============================] - 301s 5s/step - loss: 0.4782 - accuracy: 0.8329 - val_loss: 0.7385 - val_accuracy: 0.7468\n",
            "Epoch 23/30\n",
            "62/62 [==============================] - 295s 5s/step - loss: 0.4633 - accuracy: 0.8319 - val_loss: 0.7437 - val_accuracy: 0.7418\n",
            "Epoch 24/30\n",
            "62/62 [==============================] - 298s 5s/step - loss: 0.4520 - accuracy: 0.8430 - val_loss: 0.7364 - val_accuracy: 0.7507\n",
            "Epoch 25/30\n",
            "62/62 [==============================] - 297s 5s/step - loss: 0.4358 - accuracy: 0.8496 - val_loss: 0.7434 - val_accuracy: 0.7507\n",
            "Epoch 26/30\n",
            "62/62 [==============================] - 294s 5s/step - loss: 0.4334 - accuracy: 0.8476 - val_loss: 0.7690 - val_accuracy: 0.7418\n",
            "Epoch 27/30\n",
            "62/62 [==============================] - 297s 5s/step - loss: 0.4173 - accuracy: 0.8520 - val_loss: 0.7556 - val_accuracy: 0.7401\n",
            "Epoch 28/30\n",
            "62/62 [==============================] - 297s 5s/step - loss: 0.4023 - accuracy: 0.8562 - val_loss: 0.7681 - val_accuracy: 0.7457\n",
            "Epoch 29/30\n",
            "62/62 [==============================] - 299s 5s/step - loss: 0.3985 - accuracy: 0.8617 - val_loss: 0.7952 - val_accuracy: 0.7401\n",
            "Epoch 30/30\n",
            "62/62 [==============================] - 297s 5s/step - loss: 0.3861 - accuracy: 0.8655 - val_loss: 0.8096 - val_accuracy: 0.7386\n"
          ]
        }
      ]
    },
    {
      "cell_type": "code",
      "source": [
        "#  \"Accuracy\"\n",
        "plt.plot(hist.history['accuracy'])\n",
        "plt.plot(hist.history['val_accuracy'])\n",
        "plt.title('model accuracy')\n",
        "plt.ylabel('accuracy')\n",
        "plt.xlabel('epoch')\n",
        "plt.legend(['train', 'validation'], loc='upper left')\n",
        "plt.show()\n",
        "\n",
        "# \"Loss\"\n",
        "plt.plot(hist.history['loss'])\n",
        "plt.plot(hist.history['val_loss'])\n",
        "plt.title('model loss')\n",
        "plt.ylabel('loss')\n",
        "plt.xlabel('epoch')\n",
        "plt.legend(['train', 'validation'], loc='upper left')\n",
        "plt.show()"
      ],
      "metadata": {
        "id": "MzeI3SDWOn47",
        "colab": {
          "base_uri": "https://localhost:8080/",
          "height": 573
        },
        "outputId": "23b107c3-644e-4c65-b109-44cb04609679"
      },
      "execution_count": 23,
      "outputs": [
        {
          "output_type": "display_data",
          "data": {
            "image/png": "[encoded data removed]",
            "text/plain": [
              "<Figure size 432x288 with 1 Axes>"
            ]
          },
          "metadata": {
            "needs_background": "light"
          }
        },
        {
          "output_type": "display_data",
          "data": {
            "image/png": "[encoded data removed]",
            "text/plain": [
              "<Figure size 432x288 with 1 Axes>"
            ]
          },
          "metadata": {
            "needs_background": "light"
          }
        }
      ]
    },
    {
      "cell_type": "markdown",
      "source": [
        "###Evaluation"
      ],
      "metadata": {
        "id": "Lv0ZxbgeOp5y"
      }
    },
    {
      "cell_type": "code",
      "source": [
        "predictions = model.predict(X_test_pad)\n",
        "predictions = np.argmax(predictions, axis=1)\n",
        "predictions = [class_names[pred] for pred in predictions]"
      ],
      "metadata": {
        "id": "QgsSEQP8OsOE"
      },
      "execution_count": 24,
      "outputs": []
    },
    {
      "cell_type": "code",
      "source": [
        "print(\"Accuracy: {:.2f}%\".format(accuracy_score(data_test.Emotion, predictions) * 100))\n",
        "print(\"\\nF1 Score: {:.2f}\".format(f1_score(data_test.Emotion, predictions, average='micro') * 100))"
      ],
      "metadata": {
        "id": "uO2CoqOvOx3Q",
        "colab": {
          "base_uri": "https://localhost:8080/"
        },
        "outputId": "6087a2ef-4567-4127-b382-8790d8391cf3"
      },
      "execution_count": 25,
      "outputs": [
        {
          "output_type": "stream",
          "name": "stdout",
          "text": [
            "Accuracy: 73.86%\n",
            "\n",
            "F1 Score: 73.86\n"
          ]
        }
      ]
    },
    {
      "cell_type": "code",
      "source": [
        "# creates a HDF5 file 'my_model.h5'\n",
        "model.save('/content/drive/MyDrive//Capstone/models/biLSTM_w2v.h5')"
      ],
      "metadata": {
        "id": "HNKz9I69O4M5"
      },
      "execution_count": 26,
      "outputs": []
    },
    {
      "cell_type": "code",
      "source": [
        "from keras.models import load_model\n",
        "predictor = load_model('/content/Capstone/models/biLSTM_w2v.h5')"
      ],
      "metadata": {
        "id": "EK8iSzI7PDMU",
        "colab": {
          "base_uri": "https://localhost:8080/"
        },
        "outputId": "67ad89ba-eace-4d86-865f-10d8ae7ffbd2"
      },
      "execution_count": 27,
      "outputs": [
        {
          "output_type": "stream",
          "name": "stdout",
          "text": [
            "WARNING:tensorflow:Layer gru_1 will not use cuDNN kernels since it doesn't meet the criteria. It will use a generic GPU kernel as fallback when running on GPU.\n",
            "WARNING:tensorflow:Layer gru_1 will not use cuDNN kernels since it doesn't meet the criteria. It will use a generic GPU kernel as fallback when running on GPU.\n",
            "WARNING:tensorflow:Layer gru_1 will not use cuDNN kernels since it doesn't meet the criteria. It will use a generic GPU kernel as fallback when running on GPU.\n"
          ]
        }
      ]
    },
    {
      "cell_type": "code",
      "source": [
        "def plot_confusion_matrix(y_true, y_pred, classes,\n",
        "                          normalize=False,\n",
        "                          title=None,\n",
        "                          cmap=plt.cm.Blues):\n",
        "    '''\n",
        "    This function prints and plots the confusion matrix.\n",
        "    Normalization can be applied by setting `normalize=True`.\n",
        "    '''\n",
        "    if not title:\n",
        "        if normalize:\n",
        "            title = 'Normalized confusion matrix'\n",
        "        else:\n",
        "            title = 'Confusion matrix, without normalization'\n",
        "\n",
        "    # Compute confusion matrix\n",
        "    cm = confusion_matrix(y_true, y_pred)\n",
        "\n",
        "    if normalize:\n",
        "        cm = cm.astype('float') / cm.sum(axis=1)[:, np.newaxis]\n",
        "\n",
        "    fig, ax = plt.subplots()\n",
        "    \n",
        "    # Set size\n",
        "    fig.set_size_inches(12.5, 7.5)\n",
        "    im = ax.imshow(cm, interpolation='nearest', cmap=cmap)\n",
        "    ax.figure.colorbar(im, ax=ax)\n",
        "    ax.grid(False)\n",
        "    \n",
        "    # We want to show all ticks...\n",
        "    ax.set(xticks=np.arange(cm.shape[1]),\n",
        "           yticks=np.arange(cm.shape[0]),\n",
        "           # ... and label them with the respective list entries\n",
        "           xticklabels=classes, yticklabels=classes,\n",
        "           title=title,\n",
        "           ylabel='True label',\n",
        "           xlabel='Predicted label')\n",
        "\n",
        "    # Rotate the tick labels and set their alignment.\n",
        "    plt.setp(ax.get_xticklabels(), rotation=45, ha=\"right\",\n",
        "             rotation_mode=\"anchor\")\n",
        "\n",
        "    # Loop over data dimensions and create text annotations.\n",
        "    fmt = '.2f' if normalize else 'd'\n",
        "    thresh = cm.max() / 2.\n",
        "    for i in range(cm.shape[0]):\n",
        "        for j in range(cm.shape[1]):\n",
        "            ax.text(j, i, format(cm[i, j], fmt),\n",
        "                    ha=\"center\", va=\"center\",\n",
        "                    color=\"white\" if cm[i, j] > thresh else \"black\")\n",
        "    fig.tight_layout()\n",
        "    return ax"
      ],
      "metadata": {
        "id": "wKgZO_p4PEnJ"
      },
      "execution_count": 28,
      "outputs": []
    },
    {
      "cell_type": "code",
      "source": [
        "print(\"\\nF1 Score: {:.2f}\".format(f1_score(data_test.Emotion, predictions, average='micro') * 100))\n",
        "\n",
        "# Plot normalized confusion matrix\n",
        "plot_confusion_matrix(data_test.Emotion, predictions, classes=class_names, normalize=True, title='Normalized confusion matrix')\n",
        "plt.show()"
      ],
      "metadata": {
        "id": "2mTbKU0TPF8j",
        "colab": {
          "base_uri": "https://localhost:8080/",
          "height": 584
        },
        "outputId": "0126efa0-78bb-4db2-fcf7-8b7b0e670e39"
      },
      "execution_count": 29,
      "outputs": [
        {
          "output_type": "stream",
          "name": "stdout",
          "text": [
            "\n",
            "F1 Score: 73.86\n"
          ]
        },
        {
          "output_type": "display_data",
          "data": {
            "image/png": "[encoded data removed]",
            "text/plain": [
              "<Figure size 900x540 with 2 Axes>"
            ]
          },
          "metadata": {
            "needs_background": "light"
          }
        }
      ]
    },
    {
      "cell_type": "code",
      "source": [
        "print('Message: {}\\nPredicted: {}'.format(X_test[4], predictions[4]))"
      ],
      "metadata": {
        "id": "FBQW4qIfPIDf",
        "colab": {
          "base_uri": "https://localhost:8080/"
        },
        "outputId": "da9c63e7-b1cf-4079-a993-e16d88f2cb7f"
      },
      "execution_count": 30,
      "outputs": [
        {
          "output_type": "stream",
          "name": "stdout",
          "text": [
            "Message: My boyfriend didn't turn up after promising that he was coming.\n",
            "Predicted: sadness\n"
          ]
        }
      ]
    },
    {
      "cell_type": "code",
      "source": [
        "import time\n",
        "\n",
        "message = ['i have been really going through rough days']\n",
        "\n",
        "seq = tokenizer.texts_to_sequences(message)\n",
        "padded = pad_sequences(seq, maxlen=max_seq_len)\n",
        "\n",
        "start_time = time.time()\n",
        "pred = model.predict(padded)\n",
        "\n",
        "print('Message: ' + str(message))\n",
        "print('predicted: {} ({:.2f} seconds)'.format(class_names[np.argmax(pred)], (time.time() - start_time)))"
      ],
      "metadata": {
        "id": "tDs4-DOMPLSO",
        "colab": {
          "base_uri": "https://localhost:8080/"
        },
        "outputId": "5dd50685-393e-46c9-b571-388306429bb4"
      },
      "execution_count": 31,
      "outputs": [
        {
          "output_type": "stream",
          "name": "stdout",
          "text": [
            "Message: ['i have been really going through rough days']\n",
            "predicted: sadness (0.40 seconds)\n"
          ]
        }
      ]
    },
    {
      "cell_type": "code",
      "source": [
        "import time\n",
        "\n",
        "message = ['This is fine day']\n",
        "\n",
        "seq = tokenizer.texts_to_sequences(message)\n",
        "padded = pad_sequences(seq, maxlen=max_seq_len)\n",
        "\n",
        "start_time = time.time()\n",
        "pred = model.predict(padded)\n",
        "\n",
        "print('Message: ' + str(message))\n",
        "print('predicted: {} ({:.2f} seconds)'.format(class_names[np.argmax(pred)], (time.time() - start_time)))"
      ],
      "metadata": {
        "id": "onlT8_dqknZf",
        "colab": {
          "base_uri": "https://localhost:8080/"
        },
        "outputId": "274abd8b-e3e8-4bc7-d07b-13a39a240869"
      },
      "execution_count": 32,
      "outputs": [
        {
          "output_type": "stream",
          "name": "stdout",
          "text": [
            "Message: ['This is fine day']\n",
            "predicted: neutral (0.39 seconds)\n"
          ]
        }
      ]
    },
    {
      "cell_type": "code",
      "source": [
        "import time\n",
        "\n",
        "message = ['that man over there is running fast']\n",
        "\n",
        "seq = tokenizer.texts_to_sequences(message)\n",
        "padded = pad_sequences(seq, maxlen=max_seq_len)\n",
        "\n",
        "start_time = time.time()\n",
        "pred = model.predict(padded)\n",
        "\n",
        "print('Message: ' + str(message))\n",
        "print('predicted: {} ({:.2f} seconds)'.format(class_names[np.argmax(pred)], (time.time() - start_time)))"
      ],
      "metadata": {
        "id": "oZN7C4KUkqrV",
        "colab": {
          "base_uri": "https://localhost:8080/"
        },
        "outputId": "49c33e2f-3786-4d09-f6a2-5ebd41b74d72"
      },
      "execution_count": 33,
      "outputs": [
        {
          "output_type": "stream",
          "name": "stdout",
          "text": [
            "Message: ['that man over there is running fast']\n",
            "predicted: fear (0.40 seconds)\n"
          ]
        }
      ]
    },
    {
      "cell_type": "code",
      "source": [
        "import time\n",
        "\n",
        "message = ['congratulations thats a big news']\n",
        "\n",
        "seq = tokenizer.texts_to_sequences(message)\n",
        "padded = pad_sequences(seq, maxlen=max_seq_len)\n",
        "\n",
        "start_time = time.time()\n",
        "pred = model.predict(padded)\n",
        "\n",
        "print('Message: ' + str(message))\n",
        "print('predicted: {} ({:.2f} seconds)'.format(class_names[np.argmax(pred)], (time.time() - start_time)))"
      ],
      "metadata": {
        "id": "Wjd3vnuGkv8J",
        "colab": {
          "base_uri": "https://localhost:8080/"
        },
        "outputId": "300f1c77-2a3e-4987-b6a7-b2356683fed1"
      },
      "execution_count": 34,
      "outputs": [
        {
          "output_type": "stream",
          "name": "stdout",
          "text": [
            "Message: ['congratulations thats a big news']\n",
            "predicted: joy (0.40 seconds)\n"
          ]
        }
      ]
    },
    {
      "cell_type": "code",
      "source": [
        "import time\n",
        "\n",
        "message = ['i could not have been more merry']\n",
        "\n",
        "seq = tokenizer.texts_to_sequences(message)\n",
        "padded = pad_sequences(seq, maxlen=max_seq_len)\n",
        "\n",
        "start_time = time.time()\n",
        "pred = model.predict(padded)\n",
        "\n",
        "print('Message: ' + str(message))\n",
        "print('predicted: {} ({:.2f} seconds)'.format(class_names[np.argmax(pred)], (time.time() - start_time)))"
      ],
      "metadata": {
        "id": "yV-9QtLxk1OV",
        "colab": {
          "base_uri": "https://localhost:8080/"
        },
        "outputId": "9e50d66c-d984-4e60-c537-910b0c38f25a"
      },
      "execution_count": 35,
      "outputs": [
        {
          "output_type": "stream",
          "name": "stdout",
          "text": [
            "Message: ['i could not have been more merry']\n",
            "predicted: sadness (0.67 seconds)\n"
          ]
        }
      ]
    },
    {
      "cell_type": "markdown",
      "source": [
        "# Voice Prediction:"
      ],
      "metadata": {
        "id": "3CzZ9-4VPROu"
      }
    },
    {
      "cell_type": "code",
      "source": [
        "#installing all the packages required for speech input and recognition\n",
        "\n",
        "!sudo apt-get install portaudio19-dev python-pyaudio\n",
        "!sudo apt-get install python-gnuradio-audio-portaudio\n",
        "!pip install PyAudio\n",
        "!pip install SpeechRecognition\n",
        "!pip install pyttsx3\n",
        "!pip install wavio\n",
        "!pip install pydub"
      ],
      "metadata": {
        "id": "MqPg7SeXPOWQ",
        "colab": {
          "base_uri": "https://localhost:8080/"
        },
        "outputId": "af554dd4-4a06-4073-9daf-8fa8defe3ddd"
      },
      "execution_count": 36,
      "outputs": [
        {
          "output_type": "stream",
          "name": "stdout",
          "text": [
            "Reading package lists... Done\n",
            "Building dependency tree       \n",
            "Reading state information... Done\n",
            "The following additional packages will be installed:\n",
            "  libportaudio2 libportaudiocpp0\n",
            "Suggested packages:\n",
            "  portaudio19-doc python-pyaudio-doc\n",
            "The following NEW packages will be installed:\n",
            "  libportaudio2 libportaudiocpp0 portaudio19-dev python-pyaudio\n",
            "0 upgraded, 4 newly installed, 0 to remove and 37 not upgraded.\n",
            "Need to get 208 kB of archives.\n",
            "After this operation, 999 kB of additional disk space will be used.\n",
            "Get:1 http://archive.ubuntu.com/ubuntu bionic/universe amd64 libportaudio2 amd64 19.6.0-1 [64.6 kB]\n",
            "Get:2 http://archive.ubuntu.com/ubuntu bionic/universe amd64 libportaudiocpp0 amd64 19.6.0-1 [15.1 kB]\n",
            "Get:3 http://archive.ubuntu.com/ubuntu bionic/universe amd64 portaudio19-dev amd64 19.6.0-1 [104 kB]\n",
            "Get:4 http://archive.ubuntu.com/ubuntu bionic/universe amd64 python-pyaudio amd64 0.2.11-1build2 [24.1 kB]\n",
            "Fetched 208 kB in 2s (130 kB/s)\n",
            "debconf: unable to initialize frontend: Dialog\n",
            "debconf: (No usable dialog-like program is installed, so the dialog based frontend cannot be used. at /usr/share/perl5/Debconf/FrontEnd/Dialog.pm line 76, <> line 4.)\n",
            "debconf: falling back to frontend: Readline\n",
            "debconf: unable to initialize frontend: Readline\n",
            "debconf: (This frontend requires a controlling tty.)\n",
            "debconf: falling back to frontend: Teletype\n",
            "dpkg-preconfigure: unable to re-open stdin: \n",
            "Selecting previously unselected package libportaudio2:amd64.\n",
            "(Reading database ... 155222 files and directories currently installed.)\n",
            "Preparing to unpack .../libportaudio2_19.6.0-1_amd64.deb ...\n",
            "Unpacking libportaudio2:amd64 (19.6.0-1) ...\n",
            "Selecting previously unselected package libportaudiocpp0:amd64.\n",
            "Preparing to unpack .../libportaudiocpp0_19.6.0-1_amd64.deb ...\n",
            "Unpacking libportaudiocpp0:amd64 (19.6.0-1) ...\n",
            "Selecting previously unselected package portaudio19-dev:amd64.\n",
            "Preparing to unpack .../portaudio19-dev_19.6.0-1_amd64.deb ...\n",
            "Unpacking portaudio19-dev:amd64 (19.6.0-1) ...\n",
            "Selecting previously unselected package python-pyaudio.\n",
            "Preparing to unpack .../python-pyaudio_0.2.11-1build2_amd64.deb ...\n",
            "Unpacking python-pyaudio (0.2.11-1build2) ...\n",
            "Setting up libportaudio2:amd64 (19.6.0-1) ...\n",
            "Setting up python-pyaudio (0.2.11-1build2) ...\n",
            "Setting up libportaudiocpp0:amd64 (19.6.0-1) ...\n",
            "Setting up portaudio19-dev:amd64 (19.6.0-1) ...\n",
            "Processing triggers for libc-bin (2.27-3ubuntu1.3) ...\n",
            "/sbin/ldconfig.real: /usr/local/lib/python3.7/dist-packages/ideep4py/lib/libmkldnn.so.0 is not a symbolic link\n",
            "\n",
            "Reading package lists... Done\n",
            "Building dependency tree       \n",
            "Reading state information... Done\n",
            "E: Unable to locate package python-gnuradio-audio-portaudio\n",
            "Collecting PyAudio\n",
            "  Downloading PyAudio-0.2.11.tar.gz (37 kB)\n",
            "Building wheels for collected packages: PyAudio\n",
            "  Building wheel for PyAudio (setup.py) ... \u001b[?25l\u001b[?25hdone\n",
            "  Created wheel for PyAudio: filename=PyAudio-0.2.11-cp37-cp37m-linux_x86_64.whl size=52605 sha256=4398e385cfaf848760945211f31b606e787d9cbc400d52bd16637f1f1bdcdcce\n",
            "  Stored in directory: /root/.cache/pip/wheels/40/2e/4c/b71e7e96c861a46e6213bc6bb482b94dcf293a92c5e736c1ec\n",
            "Successfully built PyAudio\n",
            "Installing collected packages: PyAudio\n",
            "Successfully installed PyAudio-0.2.11\n",
            "Collecting SpeechRecognition\n",
            "  Downloading SpeechRecognition-3.8.1-py2.py3-none-any.whl (32.8 MB)\n",
            "\u001b[K     |████████████████████████████████| 32.8 MB 160 kB/s \n",
            "\u001b[?25hInstalling collected packages: SpeechRecognition\n",
            "Successfully installed SpeechRecognition-3.8.1\n",
            "Collecting pyttsx3\n",
            "  Downloading pyttsx3-2.90-py3-none-any.whl (39 kB)\n",
            "Installing collected packages: pyttsx3\n",
            "Successfully installed pyttsx3-2.90\n",
            "Collecting wavio\n",
            "  Downloading wavio-0.0.4-py2.py3-none-any.whl (9.0 kB)\n",
            "Requirement already satisfied: numpy>=1.6.0 in /usr/local/lib/python3.7/dist-packages (from wavio) (1.19.5)\n",
            "Installing collected packages: wavio\n",
            "Successfully installed wavio-0.0.4\n",
            "Collecting pydub\n",
            "  Downloading pydub-0.25.1-py2.py3-none-any.whl (32 kB)\n",
            "Installing collected packages: pydub\n",
            "Successfully installed pydub-0.25.1\n"
          ]
        }
      ]
    },
    {
      "cell_type": "code",
      "source": [
        "# all imports\n",
        "import numpy as np\n",
        "from IPython.display import Javascript\n",
        "from google.colab import output\n",
        "from base64 import b64decode\n",
        "from pydub import AudioSegment\n",
        "\n",
        "# js script needed to record input from colab\n",
        "RECORD = \"\"\"\n",
        "const sleep = time => new Promise(resolve => {\n",
        "setTimeout(resolve, time)\n",
        "}, )\n",
        "const b2text = blob => new Promise(resolve => {\n",
        "const reader = new FileReader()\n",
        "reader.onloadend = e => resolve(e.srcElement.result)\n",
        "reader.readAsDataURL(blob)\n",
        "})\n",
        "var espacio = document.querySelector(\"#output-area\")\n",
        "var record = time => new Promise(async resolve => {\n",
        "stream = await navigator.mediaDevices.getUserMedia({ audio: true })\n",
        "recorder = new MediaRecorder(stream)\n",
        "chunks = []\n",
        "recorder.ondataavailable = e => chunks.push(e.data)\n",
        "recorder.start()\n",
        "var numerillo = (time/1000)-1\n",
        "for (var i = 0; i < numerillo; i++) {\n",
        "espacio.appendChild(document.createTextNode(numerillo-i))\n",
        "await sleep(1000)\n",
        "espacio.removeChild(espacio.lastChild)\n",
        "}\n",
        "recorder.onstop = async ()=>{\n",
        "blob = new Blob(chunks)\n",
        "text = await b2text(blob)\n",
        "resolve(text)\n",
        "}\n",
        "recorder.stop()\n",
        "})\n",
        "\"\"\"\n",
        "\n",
        "#record function that will record the audio for a default of 5 secs\n",
        "def record(sec=5):\n",
        "  display(Javascript(RECORD))\n",
        "  s = output.eval_js('record(%d)' % (sec*1000))\n",
        "  b = b64decode(s.split(',')[1])\n",
        "  with open('audio.wav','wb') as f:\n",
        "    f.write(b)\n",
        "  return 'audio.wav'  # or webm ?\n",
        "\n",
        "\n",
        "#conversion of the .wav file into a readable format for speechrecognizer\n",
        "EXPECTED_SAMPLE_RATE = 16000\n",
        "\n",
        "def convert_audio_for_model(user_file, output_file='converted_audio_file.wav'):\n",
        "  audio = AudioSegment.from_file(user_file)\n",
        "  audio = audio.set_frame_rate(EXPECTED_SAMPLE_RATE).set_channels(1)\n",
        "  audio.export(output_file, format=\"wav\")\n",
        "  return output_file"
      ],
      "metadata": {
        "id": "B4HuZR0mPS9j"
      },
      "execution_count": 37,
      "outputs": []
    },
    {
      "cell_type": "code",
      "source": [
        "#recognition of speech using SpeeechRecognition Package\n",
        "import speech_recognition as sr\n",
        "import time\n",
        "\n",
        "r = sr.Recognizer()\n",
        "n=int(input(\"Enter the number of seconds:\"))\n",
        "print(\"Speak Anything :\")\n",
        "print(\"Time Remaining:\")\n",
        "wave=record(n)\n",
        "converted_audio_file = convert_audio_for_model(wave)\n",
        "\n",
        "# obtain audio from the microphone\n",
        "r = sr.Recognizer()\n",
        "with sr.AudioFile('/content/converted_audio_file.wav') as source:\n",
        "    audio = r.record(source) #read the wave file from the source\n",
        "\n",
        "# recognize speech using Google Speech Recognition\n",
        "try:\n",
        "    # for testing purposes, we're just using the default API key\n",
        "    # to use another API key, use `r.recognize_google(audio, key=\"GOOGLE_SPEECH_RECOGNITION_API_KEY\")`\n",
        "    # instead of `r.recognize_google(audio)`\n",
        "    text=r.recognize_google(audio)\n",
        "    print(\"You said:  \" + text)\n",
        "except sr.UnknownValueError:\n",
        "    print(\"AI could not understand audio\")\n",
        "except sr.RequestError as e:\n",
        "    print(\"Could not request results from Google Speech Recognition service; {0}\".format(e))\n",
        "\n",
        "\n",
        "# Python code to convert string to list\n",
        "# We need it as input into the lstm pipeline is done with list and the output from the StT is in String  \n",
        "def Convert(string):\n",
        "    li = list(string.split(\" \"))\n",
        "    return li\n",
        "\n",
        "#Message encoding\n",
        "message = [' '.join(Convert(text))]\n",
        "\n",
        "seq = tokenizer.texts_to_sequences(message)\n",
        "padded = pad_sequences(seq, maxlen=max_seq_len)\n",
        "\n",
        "start_time = time.time()\n",
        "pred = model.predict(padded)\n",
        "\n",
        "print('predicted: {} ({:.2f} seconds)'.format(class_names[np.argmax(pred)], (time.time() - start_time)))"
      ],
      "metadata": {
        "id": "BZHBVGAsPUWs",
        "colab": {
          "base_uri": "https://localhost:8080/",
          "height": 104
        },
        "outputId": "0cd195ce-42e0-4931-87fb-d432fb021403"
      },
      "execution_count": 39,
      "outputs": [
        {
          "output_type": "stream",
          "name": "stdout",
          "text": [
            "Enter the number of seconds:10\n",
            "Speak Anything :\n",
            "Time Remaining:\n"
          ]
        },
        {
          "output_type": "display_data",
          "data": {
            "application/javascript": [
              "\n",
              "const sleep = time => new Promise(resolve => {\n",
              "setTimeout(resolve, time)\n",
              "}, )\n",
              "const b2text = blob => new Promise(resolve => {\n",
              "const reader = new FileReader()\n",
              "reader.onloadend = e => resolve(e.srcElement.result)\n",
              "reader.readAsDataURL(blob)\n",
              "})\n",
              "var espacio = document.querySelector(\"#output-area\")\n",
              "var record = time => new Promise(async resolve => {\n",
              "stream = await navigator.mediaDevices.getUserMedia({ audio: true })\n",
              "recorder = new MediaRecorder(stream)\n",
              "chunks = []\n",
              "recorder.ondataavailable = e => chunks.push(e.data)\n",
              "recorder.start()\n",
              "var numerillo = (time/1000)-1\n",
              "for (var i = 0; i < numerillo; i++) {\n",
              "espacio.appendChild(document.createTextNode(numerillo-i))\n",
              "await sleep(1000)\n",
              "espacio.removeChild(espacio.lastChild)\n",
              "}\n",
              "recorder.onstop = async ()=>{\n",
              "blob = new Blob(chunks)\n",
              "text = await b2text(blob)\n",
              "resolve(text)\n",
              "}\n",
              "recorder.stop()\n",
              "})\n"
            ],
            "text/plain": [
              "<IPython.core.display.Javascript object>"
            ]
          },
          "metadata": {}
        },
        {
          "output_type": "stream",
          "name": "stdout",
          "text": [
            "You said:  that room is creepy\n",
            "predicted: fear (0.41 seconds)\n"
          ]
        }
      ]
    },
    {
      "cell_type": "code",
      "source": [
        ""
      ],
      "metadata": {
        "id": "8rEdpXCbPWSp"
      },
      "execution_count": null,
      "outputs": []
    }
  ]
}